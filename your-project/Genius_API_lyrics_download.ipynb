{
 "cells": [
  {
   "cell_type": "markdown",
   "metadata": {},
   "source": [
    "# Lyrics download workflow"
   ]
  },
  {
   "cell_type": "markdown",
   "metadata": {},
   "source": [
    "You can get an access token here: https://genius.com/api-clients\n",
    "Just log in or create an account, create a new API Client and then click on \"Generate Access Token\"."
   ]
  },
  {
   "cell_type": "code",
   "execution_count": 2,
   "metadata": {},
   "outputs": [],
   "source": [
    "import lyricsgenius\n",
    "import re\n",
    "import pandas as pd"
   ]
  },
  {
   "cell_type": "markdown",
   "metadata": {},
   "source": [
    "If you save the token in afile called 'geniustoken.txt' the following cell will automatically open the file, copy the token into the variable \"token\" and close the file."
   ]
  },
  {
   "cell_type": "code",
   "execution_count": 3,
   "metadata": {},
   "outputs": [],
   "source": [
    "with open('geniustoken.txt', 'r') as file:\n",
    "    token = file.read().strip()\n",
    "    file.close()"
   ]
  },
  {
   "cell_type": "markdown",
   "metadata": {},
   "source": [
    "This will create the object that we need to actually use the API. Every call to the API will be made with genius.whatever_method_we_need"
   ]
  },
  {
   "cell_type": "code",
   "execution_count": 4,
   "metadata": {},
   "outputs": [],
   "source": [
    "genius = lyricsgenius.Genius(token)"
   ]
  },
  {
   "cell_type": "markdown",
   "metadata": {},
   "source": [
    "Given the fact that we will have single songs to get lyrics from the only method we need is actually genius.search_song() which has only 3 parameters:\n",
    "\n",
    "Title and Artist, as a string, and get_full_info which, when True, gets a lot of other stuff we don't need and when False only returns the lyrics. We're only going to use it with False."
   ]
  },
  {
   "cell_type": "markdown",
   "metadata": {},
   "source": [
    "The dataset we're using has quite a few songs with multiple artists. When it's only two of them they are divided by an '&' while if there's 3 or more only the last one will be separated by '&' while the other by a comma.\n",
    "\n",
    "Examples:\n",
    "Kanye West, Big Sean, Pusha T & 2 Chainz OR Jay-Z & Kanye West\n",
    "\n",
    "There is a regex below that only takes the first artist name which is enough to find the related song. It should only fail on Artists that have a comma in the middle of their name which I'm hoping it's none.\n"
   ]
  },
  {
   "cell_type": "markdown",
   "metadata": {},
   "source": [
    "Assuming that the artists and related songs will be saved in a list of lists (e.g. [['Sharon Van Etten', 'Seventeen'], ['Crash of Rhinos', 'Big Sea'], ['Jay-Z & Kanye West', 'Niggas in Paris']] we can just use a function to get all the related lyrics. The function will return a list of lists with three elements: (artist, song_title, lyrics).\n",
    "\n"
   ]
  },
  {
   "cell_type": "code",
   "execution_count": 5,
   "metadata": {},
   "outputs": [],
   "source": [
    "def get_first_artist(artist):\n",
    "    pattern = '[^,|&]*'\n",
    "    return re.match(pattern, artist).group()\n",
    "\n",
    "def get_lyrics(artist_song_list):    \n",
    "    return [[artist, song, genius.search_song(song, get_first_artist(artist), get_full_info=False).lyrics] for artist, song in artist_song_list]\n",
    "        \n",
    "    "
   ]
  },
  {
   "cell_type": "markdown",
   "metadata": {},
   "source": [
    "Small test including songs with 2 and 3 or more artist to check regex."
   ]
  },
  {
   "cell_type": "code",
   "execution_count": 6,
   "metadata": {},
   "outputs": [],
   "source": [
    "artist_list = [['Sharon Van Etten', 'Seventeen'], ['P Diddy, Usher & Loon', 'I Need A Girl'], ['Jay-Z & Kanye West', 'Niggas in Paris']]"
   ]
  },
  {
   "cell_type": "code",
   "execution_count": 7,
   "metadata": {},
   "outputs": [
    {
     "name": "stdout",
     "output_type": "stream",
     "text": [
      "Searching for \"Seventeen\" by Sharon Van Etten...\n",
      "Done.\n",
      "Searching for \"I Need A Girl\" by P Diddy...\n",
      "Done.\n",
      "Searching for \"Niggas in Paris\" by Jay-Z ...\n",
      "Done.\n"
     ]
    }
   ],
   "source": [
    "lyrics = get_lyrics(artist_list)"
   ]
  },
  {
   "cell_type": "code",
   "execution_count": 8,
   "metadata": {},
   "outputs": [
    {
     "data": {
      "text/plain": [
       "[['Sharon Van Etten',\n",
       "  'Seventeen',\n",
       "  \"[Verse 1]\\nI know what you wanna say\\nI think that you're all the same\\nConstantly being led astray\\nYou think you know something you don't\\n\\n[Chorus 1]\\nDowntown hotspot halfway up the street\\nI used to be free, I used to be seventeen\\nFollow my shadow around your corner\\nI used to be seventeen, now you're just like me\\n\\n[Verse 2]\\nDown beneath the ashes and the stone\\nSure of what I've lived and have known\\nI see you so uncomfortably alone\\nI wish I could show you how much you've grown\\n\\n[Chorus 2]\\nDowntown hotspot used to be on this street\\nI used to be seventeen, I used to be seventeen\\nNow you're a hotshot hanging on my block\\nSun coming up, who's my shadow?\\n\\n[Post-Chorus]\\nLa-la-la-la-la-la-la\\nLa-la-la-la-la-la-la\\nLa-la-la-la-la-la-la\\nLa-la-la-la-la-la-la\\n\\n[Bridge]\\nI know what you're gonna be\\nI know that you're gonna be\\nYou'll crumble it up just to see\\nAfraid that you'll be just like me\\n\\n[Chorus 3]\\nDowntown hotspot halfway through this life\\nI used to feel free, or was it just a dream?\\nNow you're a hotshot, think you're so carefree\\nBut you're just seventeen, so much like me\\nYou're just seventeen, you're just seventeen\\nSeventeen\"],\n",
       " ['P Diddy, Usher & Loon',\n",
       "  'I Need A Girl',\n",
       "  \"[P. Diddy]\\nYeah, Yeah\\nI need a, I want a\\nF*ck u\\n[Usher]\\nI need a girl to ride, ride, ride\\nI need a girl to make my wife\\nI need a girl who's mine oh mine\\nI need a girl in my life\\n[P. Diddy]\\nYo, I'm internationally known on the microphone\\nI got it all, but I really need a wife at home\\nI don't really like the zone, never spend the night alone\\nI got a few, you would like to bone (know)\\nBut, chicks don't romance me, don't tickle my fancy (fantasy)\\nOnly Tiffany and Nancy; that's not what my plans be\\nI need a girl that could stand me, raise me a family\\nGo to trips at the Lancy, trip to the Grammy's cause\\nMost of these girls be (are) confusin me\\nI don't know if they really love me or they usin me\\nHere's the money, or maybe you ain't used to me\\nCause you was depressed and now you abusin me (abusin me)\\nThat's why I need a girl that be true to me\\nKnow bout the game, and know how to do to me\\nWithout a girl on my side, shit I ruin me\\nForget the wor(l)d, it's just you and me\\n[P. Diddy & Usher]\\nNow let's ride.....\\n\\n[Chorus: Usher]\\nI need a girl to ride, ride, ride\\nI need a girl to make my wife\\nI need a girl who's mine oh mine\\nI need a girl in my life\\nI need a girl to ride, ride, ride\\nI need a girl to be my wife\\nNobody else cuz she's all mine\\nI need a girl in my life\\n[Loon]\\nYo, now I have had a lot of women in my lifetime\\nBut see it's not a lot of women that got the right mind\\nI done had pretty chicks with all the right features\\nAnd hoodrat chicks that only rock sneakers\\nCellphones and beepers, and know how to treat ya\\nYou break her heart, she'll walk out and leave ya\\nI find a girl, I'ma keep her\\nCuz now I'm gettin money and the game gettin deeper\\nI want some real shit, I need somebody I can chill with\\nI need somebody I can build with\\nI need somebody I can hold tight\\nWith the time and no full limits, no right\\nAnytime we together would feel so right\\nYou the girl I been lookin for my whole life\\nGod bless me, I'm glad I got the insight\\nIt's cuz of you girl, now I understand life\\n[Loon & Usher]\\nI need a girl...\\n\\n[Chorus : Usher]\\nI need a girl to ride, ride, ride\\nI need a girl to make my wife\\nI need a girl who's mine oh mine\\nI need a girl in my life\\nI need a girl to ride, ride, ride\\nI need a girl to be my wife\\nNobody else cuz she's all mine\\nI need a girl in my life\\n[P. Diddy]\\nI had a girl that would've died for me\\nDidn't 'preciate her so I made her cry for me\\nEvery night she had tears in her eyes for me\\nCaught a Case, , shorty took the whole ride for me\\nFirst we were friends then became lovers\\nYou was more than my girl, we was like brothers\\nAll night we would play fight under covers\\nNow you gone, can't love you like I really wanna\\nBut everytime I think about your pretty smile\\nAnd how we used to drive the whole city wild\\nDamn I wish you would've had my child\\nA pretty little girl wit Diddy's style\\nThis shit is wild\\nAll dem days that I reminisce\\nAbout the way I use to kiss dem pretty lips\\nBut as long as you happy, I'ma tell you this\\nI love you girl and you're the one that I will always miss\\nI love you, yeah\\n\\n[Chorus : Usher]\\nI need a girl to ride, ride, ride\\nI need a girl to make my wife\\nI need a girl who's mine oh mine\\nI need a girl in my life\\nI need a girl to ride, ride, ride\\nI need a girl to be my wife\\nNobody else cuz she's all mine\\nI need a girl in my life\\nI need a girl to ride, ride, ride\\nI need a girl to make my wife\\nI need a girl who's mine oh mine\\nI need a girl in my life\\nI need a girl to ride, ride, ride\\nI need a girl to be my wife\\nNobody else cuz she's all mine\\nI need a girl in my life\\nI need a girl to ride, ride, ride\\nI need a girl to make my wife\\nI need a girl who's mine oh mine\\nI need a girl in my life\\nI need a girl to ride, ride, ride\\nI need a girl to be my wife\\nNobody else cuz she's all mine\\nI need a girl in my life\"],\n",
       " ['Jay-Z & Kanye West',\n",
       "  'Niggas in Paris',\n",
       "  '[Intro: Blades of Glory sample]\\n“We\\'re going to skate to one song, one song only”\\nBall so hard mothafuckers wanna fine me\\n\\n[Verse 1: JAY-Z]\\nSo I ball so hard mothafuckers wanna fine me\\nBut first niggas gotta find me\\nWhat\\'s 50 grand to a mothafucker like me?\\nCan you please remind me?\\n(Ball so hard) This shit crazy\\nY\\'all don\\'t know that don\\'t shit faze me\\nThe Nets could go 0 for 82\\nAnd I\\'d look at you like this shit gravy\\n(Ball so hard) This shit weird\\nWe ain\\'t even \\'posed to be here\\n(Ball so hard) Since we here\\nIt\\'s only right that we\\'d be fair\\nPsycho: I\\'m liable to go Michael, take your pick\\nJackson, Tyson, Jordan, Game 6\\n(Ball so hard) Got a broken clock\\nRollies that don\\'t tick-tock\\nAudemars that\\'s losing time\\nHidden behind all these big rocks\\n(B-ball so hard) I\\'m shocked too\\nI\\'m supposed to be locked up too\\nIf you escaped what I\\'ve escaped\\nYou\\'d be in Paris getting fucked up too\\n(B-ball so hard) Let’s get faded\\nLe Meurice for like six days\\nGold bottles, scold models\\nSpillin’ Ace on my sick J’s\\n(Ball so hard) Bitch, behave\\nJust might let you meet \\'Ye\\nChi-Town\\'s D. Rose\\nI’m moving the Nets to BK\\n\\n[Chorus: JAY-Z & Kanye West]\\nBall so hard mothafuckers wanna fine me\\nThat shit cray, that shit cray, that shit cray\\nB-ball so hard mothafuckers wanna fine me\\nThat shit cray, that shit cray, that shit cray\\n\\n[Verse 2: Kanye West & JAY-Z]\\nShe said, \"\\'Ye, can we get married at the mall?\"\\nI said, \"Look, you need to crawl \\'fore you ball\\nCome and meet me in the bathroom stall\\nAnd show me why you deserve to have it all\"\\n(Ball so hard) That shit cray, ain’t it, Jay?\\n(Ball so hard) What she order, fish fillet?\\n(Ball so hard) \"Your whip so cold\" – this old thing?\\n(Ball so hard) Act like you’ll ever be around mothafuckers like this again\\nBougie girl, grab my hand\\nFuck that bitch; she don’t wanna dance\\nExcuse my French, but I’m in France, ahah, I’m just sayin\\'\\nPrince Williams ain’t do it right if you ask me\\n‘Cause I was him I would have married Kate and Ashley\\nWhat’s Gucci, my nigga?\\nWhat’s Louis, my killer?\\nWhat’s drugs, my dealer?\\nWhat’s that jacket, Margiela?\\nDoctors say I’m the illest\\n‘Cause I’m suffering from realness\\nGot my niggas in Paris\\nAnd they going gorillas, huh\\n\\n[Interlude: Blades of Glory sample]\\n“I don\\'t even know what that means\\nNo one knows what it means, but it\\'s provocative\\nNo, it\\'s not, it\\'s gross\\nGets the people going”\\n\\n[Chorus: JAY-Z]\\nBall so hard mothafuckers wanna fine me\\nB-ball so hard mothafuckers wanna fine me\\n\\n[Outro: Kanye West, JAY-Z & both]\\nYou are now watching the throne\\nDon\\'t let me get in my zone\\nDon\\'t let me get in my zone\\nDon\\'t let me get in my zone\\nThese other niggas is lyin\\'\\nActin’ like the summer ain’t mine\\n(I got that hot bitch in my home)\\n(You know how many hot bitches I own?)\\nDon\\'t let me get in my zone\\nDon\\'t let me get in my zone\\nDon\\'t let me get in my zone\\nDon\\'t let me get in my zone\\nThe stars is in the building\\nThey hands is to the ceiling\\nI know I’m \\'bout to kill it\\nHow you know? I got that feeling\\nYou are now watching the throne\\nDon\\'t let me into my zone\\nDon\\'t let me into my zone\\n(I’m definitely in my zone, zone, zone, zone, zone...)\\n\\n[Produced by Anthony Kilhoffer, Hit-Boy, Kanye West & Mike Dean]']]"
      ]
     },
     "execution_count": 8,
     "metadata": {},
     "output_type": "execute_result"
    }
   ],
   "source": [
    "lyrics"
   ]
  },
  {
   "cell_type": "markdown",
   "metadata": {},
   "source": [
    "IMPORTANT: Genius lyrics include information inside square brackets to indicate section of the songs or which artist is singing which part. They can be removed with a regex. We can first gather all the lyrics into a list of tuples like the one returned by the functions above and then run the regex through it."
   ]
  },
  {
   "cell_type": "code",
   "execution_count": 44,
   "metadata": {},
   "outputs": [],
   "source": [
    "def remove_brackets(lyrics_list):\n",
    "    pattern = '\\[.*\\]'\n",
    "    for song in lyrics:\n",
    "        song[2] = re.sub(pattern, '', song[2])"
   ]
  },
  {
   "cell_type": "code",
   "execution_count": 45,
   "metadata": {},
   "outputs": [],
   "source": [
    "remove_brackets(lyrics)"
   ]
  },
  {
   "cell_type": "code",
   "execution_count": 47,
   "metadata": {},
   "outputs": [
    {
     "data": {
      "text/plain": [
       "['Sharon Van Etten',\n",
       " 'Seventeen',\n",
       " \"\\nI know what you wanna say\\nI think that you're all the same\\nConstantly being led astray\\nYou think you know something you don't\\n\\n\\nDowntown hotspot halfway up the street\\nI used to be free, I used to be seventeen\\nFollow my shadow around your corner\\nI used to be seventeen, now you're just like me\\n\\n\\nDown beneath the ashes and the stone\\nSure of what I've lived and have known\\nI see you so uncomfortably alone\\nI wish I could show you how much you've grown\\n\\n\\nDowntown hotspot used to be on this street\\nI used to be seventeen, I used to be seventeen\\nNow you're a hotshot hanging on my block\\nSun coming up, who's my shadow?\\n\\n\\nLa-la-la-la-la-la-la\\nLa-la-la-la-la-la-la\\nLa-la-la-la-la-la-la\\nLa-la-la-la-la-la-la\\n\\n\\nI know what you're gonna be\\nI know that you're gonna be\\nYou'll crumble it up just to see\\nAfraid that you'll be just like me\\n\\n\\nDowntown hotspot halfway through this life\\nI used to feel free, or was it just a dream?\\nNow you're a hotshot, think you're so carefree\\nBut you're just seventeen, so much like me\\nYou're just seventeen, you're just seventeen\\nSeventeen\"]"
      ]
     },
     "execution_count": 47,
     "metadata": {},
     "output_type": "execute_result"
    }
   ],
   "source": [
    "lyrics[0]"
   ]
  }
 ],
 "metadata": {
  "kernelspec": {
   "display_name": "Python 3",
   "language": "python",
   "name": "python3"
  },
  "language_info": {
   "codemirror_mode": {
    "name": "ipython",
    "version": 3
   },
   "file_extension": ".py",
   "mimetype": "text/x-python",
   "name": "python",
   "nbconvert_exporter": "python",
   "pygments_lexer": "ipython3",
   "version": "3.7.3"
  }
 },
 "nbformat": 4,
 "nbformat_minor": 2
}
